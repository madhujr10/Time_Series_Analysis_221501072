{
 "cells": [
  {
   "cell_type": "code",
   "execution_count": 2,
   "id": "d07f3ff3",
   "metadata": {},
   "outputs": [
    {
     "name": "stdout",
     "output_type": "stream",
     "text": [
      "Available splits: dict_keys(['train', 'test'])\n",
      "Dataset loaded and preprocessed successfully!\n",
      "Training started...\n",
      "\u001b[1m7500/7500\u001b[0m \u001b[32m━━━━━━━━━━━━━━━━━━━━\u001b[0m\u001b[37m\u001b[0m \u001b[1m40s\u001b[0m 5ms/step - accuracy: 0.9866 - loss: 0.0388 - val_accuracy: 0.9969 - val_loss: 0.0076\n",
      "\u001b[1m1/1\u001b[0m \u001b[32m━━━━━━━━━━━━━━━━━━━━\u001b[0m\u001b[37m\u001b[0m \u001b[1m0s\u001b[0m 70ms/step\n"
     ]
    },
    {
     "data": {
      "image/png": "[encoded data removed]",
      "text/plain": [
       "<Figure size 1000x500 with 3 Axes>"
      ]
     },
     "metadata": {},
     "output_type": "display_data"
    }
   ],
   "source": [
    "\n",
    "import tensorflow as tf\n",
    "import tensorflow_datasets as tfds\n",
    "import matplotlib.pyplot as plt\n",
    "\n",
    "# Load the MNIST dataset\n",
    "dataset, info = tfds.load(\"mnist\", with_info=True, as_supervised=True)\n",
    "\n",
    "print(\"Available splits:\", dataset.keys())  # Should print ['train', 'test']\n",
    "\n",
    "# Preprocessing function (convert to segmentation format)\n",
    "def normalize(input_image, input_mask):\n",
    "    input_image = tf.image.resize(input_image, (32, 32)) / 255.0  # Resize to 32x32 for faster training\n",
    "    input_mask = tf.where(input_image > 0.5, 1, 0)  # Convert image to binary mask\n",
    "    return input_image, input_mask\n",
    "\n",
    "def load_image(image, label):  # Ignore label since MNIST is normally classification\n",
    "    return normalize(tf.cast(image, tf.float32), tf.cast(image, tf.uint8))\n",
    "\n",
    "# Prepare dataset with a smaller batch size and resized images\n",
    "train_data = dataset['train'].map(load_image).shuffle(1000).batch(8)  # Reduced batch size to 8\n",
    "test_data = dataset['test'].map(load_image).batch(8)\n",
    "\n",
    "print(\"Dataset loaded and preprocessed successfully!\")\n",
    "\n",
    "# Define a very simple CNN model (further reduced complexity)\n",
    "def simple_cnn():\n",
    "    inputs = tf.keras.layers.Input(shape=(32, 32, 1))  # Adjusted for 32x32 input\n",
    "\n",
    "    # A very simple CNN with fewer filters\n",
    "    conv1 = tf.keras.layers.Conv2D(16, (3, 3), activation='relu', padding='same')(inputs)\n",
    "    pool1 = tf.keras.layers.MaxPooling2D((2, 2))(conv1)\n",
    "\n",
    "    conv2 = tf.keras.layers.Conv2D(32, (3, 3), activation='relu', padding='same')(pool1)\n",
    "    pool2 = tf.keras.layers.MaxPooling2D((2, 2))(conv2)\n",
    "\n",
    "    conv3 = tf.keras.layers.Conv2D(64, (3, 3), activation='relu', padding='same')(pool2)\n",
    "\n",
    "    # Decoder (use transpose convolution for upsampling)\n",
    "    up4 = tf.keras.layers.Conv2DTranspose(32, (3, 3), strides=(2, 2), padding='same', activation='relu')(conv3)\n",
    "    concat4 = tf.keras.layers.Concatenate()([up4, conv2])\n",
    "\n",
    "    up5 = tf.keras.layers.Conv2DTranspose(16, (3, 3), strides=(2, 2), padding='same', activation='relu')(concat4)\n",
    "    concat5 = tf.keras.layers.Concatenate()([up5, conv1])\n",
    "\n",
    "    outputs = tf.keras.layers.Conv2D(1, (1, 1), activation='sigmoid')(concat5)  # Binary segmentation\n",
    "\n",
    "    model = tf.keras.Model(inputs, outputs)\n",
    "    return model\n",
    "\n",
    "# Compile model\n",
    "model = simple_cnn()\n",
    "model.compile(optimizer='adam', loss='binary_crossentropy', metrics=['accuracy'])\n",
    "\n",
    "# Train model with fewer epochs for faster results\n",
    "print(\"Training started...\")\n",
    "model.fit(train_data, epochs=1, validation_data=test_data)  # Reduced to 1 epoch for faster results\n",
    "\n",
    "# Predict and visualize\n",
    "def display_sample(dataset):\n",
    "    for image, mask in dataset.take(1):\n",
    "        pred_mask = model.predict(image)\n",
    "        plt.figure(figsize=(10, 5))\n",
    "\n",
    "        plt.subplot(1, 3, 1)\n",
    "        plt.imshow(image[0, :, :, 0], cmap='gray')\n",
    "        plt.title(\"Input Image\")\n",
    "\n",
    "        plt.subplot(1, 3, 2)\n",
    "        plt.imshow(mask[0, :, :, 0], cmap='gray')\n",
    "        plt.title(\"Actual Mask\")\n",
    "\n",
    "        plt.subplot(1, 3, 3)\n",
    "        plt.imshow(pred_mask[0, :, :, 0], cmap='gray')\n",
    "        plt.title(\"Predicted Mask\")\n",
    "\n",
    "        plt.show()\n",
    "        break\n",
    "\n",
    "# Visualize results\n",
    "display_sample(test_data)\n",
    "\n"
   ]
  },
  {
   "cell_type": "code",
   "execution_count": null,
   "id": "e6e7b999",
   "metadata": {},
   "outputs": [],
   "source": []
  }
 ],
 "metadata": {
  "kernelspec": {
   "display_name": "Python 3 (ipykernel)",
   "language": "python",
   "name": "python3"
  },
  "language_info": {
   "codemirror_mode": {
    "name": "ipython",
    "version": 3
   },
   "file_extension": ".py",
   "mimetype": "text/x-python",
   "name": "python",
   "nbconvert_exporter": "python",
   "pygments_lexer": "ipython3",
   "version": "3.10.9"
  }
 },
 "nbformat": 4,
 "nbformat_minor": 5
}
